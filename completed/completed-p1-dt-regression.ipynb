{
 "cells": [
  {
   "cell_type": "markdown",
   "id": "3eab3735",
   "metadata": {
    "papermill": {
     "duration": 0.010127,
     "end_time": "2022-10-17T08:28:06.594264",
     "exception": false,
     "start_time": "2022-10-17T08:28:06.584137",
     "status": "completed"
    },
    "tags": []
   },
   "source": [
    "# Part 1 : Decision Trees (Regression)\n",
    "- Hyperparameter Optimization (Grid Search)"
   ]
  },
  {
   "cell_type": "markdown",
   "id": "f38d6f48",
   "metadata": {
    "papermill": {
     "duration": 0.009246,
     "end_time": "2022-10-17T08:28:06.615534",
     "exception": false,
     "start_time": "2022-10-17T08:28:06.606288",
     "status": "completed"
    },
    "tags": []
   },
   "source": [
    "## Import Libraries"
   ]
  },
  {
   "cell_type": "code",
   "execution_count": 1,
   "id": "02be66a6",
   "metadata": {
    "_cell_guid": "b1076dfc-b9ad-4769-8c92-a6c4dae69d19",
    "_uuid": "8f2839f25d086af736a60e9eeb907d3b93b6e0e5",
    "execution": {
     "iopub.execute_input": "2022-10-17T08:28:06.636417Z",
     "iopub.status.busy": "2022-10-17T08:28:06.635611Z",
     "iopub.status.idle": "2022-10-17T08:28:08.007620Z",
     "shell.execute_reply": "2022-10-17T08:28:08.006257Z"
    },
    "papermill": {
     "duration": 1.386037,
     "end_time": "2022-10-17T08:28:08.010847",
     "exception": false,
     "start_time": "2022-10-17T08:28:06.624810",
     "status": "completed"
    },
    "tags": []
   },
   "outputs": [],
   "source": [
    "import numpy as np \n",
    "import pandas as pd \n",
    "\n",
    "from sklearn.model_selection import train_test_split\n",
    "from sklearn.tree import DecisionTreeRegressor\n",
    "from sklearn.model_selection import GridSearchCV\n",
    "\n",
    "from sklearn.metrics import mean_squared_error"
   ]
  },
  {
   "cell_type": "markdown",
   "id": "5cbda192",
   "metadata": {
    "papermill": {
     "duration": 0.006493,
     "end_time": "2022-10-17T08:28:08.024040",
     "exception": false,
     "start_time": "2022-10-17T08:28:08.017547",
     "status": "completed"
    },
    "tags": []
   },
   "source": [
    "## Import Data"
   ]
  },
  {
   "cell_type": "code",
   "execution_count": 2,
   "id": "bdc2abc4",
   "metadata": {
    "execution": {
     "iopub.execute_input": "2022-10-17T08:28:08.039649Z",
     "iopub.status.busy": "2022-10-17T08:28:08.039128Z",
     "iopub.status.idle": "2022-10-17T08:28:08.054523Z",
     "shell.execute_reply": "2022-10-17T08:28:08.053530Z"
    },
    "papermill": {
     "duration": 0.026121,
     "end_time": "2022-10-17T08:28:08.057078",
     "exception": false,
     "start_time": "2022-10-17T08:28:08.030957",
     "status": "completed"
    },
    "tags": []
   },
   "outputs": [
    {
     "name": "stdout",
     "output_type": "stream",
     "text": [
      "/kaggle/input/car-price-prediction/CarPrice_Assignment.csv\n",
      "/kaggle/input/car-price-prediction/Data Dictionary - carprices.xlsx\n"
     ]
    }
   ],
   "source": [
    "import os\n",
    "for dirname, _, filenames in os.walk('/kaggle/input'):\n",
    "    for filename in filenames:\n",
    "        print(os.path.join(dirname, filename))"
   ]
  },
  {
   "cell_type": "code",
   "execution_count": 3,
   "id": "a28c2ebe",
   "metadata": {
    "execution": {
     "iopub.execute_input": "2022-10-17T08:28:08.072057Z",
     "iopub.status.busy": "2022-10-17T08:28:08.071543Z",
     "iopub.status.idle": "2022-10-17T08:28:08.096042Z",
     "shell.execute_reply": "2022-10-17T08:28:08.094722Z"
    },
    "papermill": {
     "duration": 0.035281,
     "end_time": "2022-10-17T08:28:08.098910",
     "exception": false,
     "start_time": "2022-10-17T08:28:08.063629",
     "status": "completed"
    },
    "tags": []
   },
   "outputs": [],
   "source": [
    "data = pd.read_csv('/kaggle/input/car-price-prediction/CarPrice_Assignment.csv')"
   ]
  },
  {
   "cell_type": "markdown",
   "id": "17ab2264",
   "metadata": {
    "papermill": {
     "duration": 0.006003,
     "end_time": "2022-10-17T08:28:08.111440",
     "exception": false,
     "start_time": "2022-10-17T08:28:08.105437",
     "status": "completed"
    },
    "tags": []
   },
   "source": [
    "### Describe Data"
   ]
  },
  {
   "cell_type": "code",
   "execution_count": 4,
   "id": "a8bb6211",
   "metadata": {
    "execution": {
     "iopub.execute_input": "2022-10-17T08:28:08.127201Z",
     "iopub.status.busy": "2022-10-17T08:28:08.125721Z",
     "iopub.status.idle": "2022-10-17T08:28:08.153985Z",
     "shell.execute_reply": "2022-10-17T08:28:08.152653Z"
    },
    "papermill": {
     "duration": 0.039249,
     "end_time": "2022-10-17T08:28:08.156978",
     "exception": false,
     "start_time": "2022-10-17T08:28:08.117729",
     "status": "completed"
    },
    "tags": []
   },
   "outputs": [
    {
     "name": "stdout",
     "output_type": "stream",
     "text": [
      "<class 'pandas.core.frame.DataFrame'>\n",
      "RangeIndex: 205 entries, 0 to 204\n",
      "Data columns (total 26 columns):\n",
      " #   Column            Non-Null Count  Dtype  \n",
      "---  ------            --------------  -----  \n",
      " 0   car_ID            205 non-null    int64  \n",
      " 1   symboling         205 non-null    int64  \n",
      " 2   CarName           205 non-null    object \n",
      " 3   fueltype          205 non-null    object \n",
      " 4   aspiration        205 non-null    object \n",
      " 5   doornumber        205 non-null    object \n",
      " 6   carbody           205 non-null    object \n",
      " 7   drivewheel        205 non-null    object \n",
      " 8   enginelocation    205 non-null    object \n",
      " 9   wheelbase         205 non-null    float64\n",
      " 10  carlength         205 non-null    float64\n",
      " 11  carwidth          205 non-null    float64\n",
      " 12  carheight         205 non-null    float64\n",
      " 13  curbweight        205 non-null    int64  \n",
      " 14  enginetype        205 non-null    object \n",
      " 15  cylindernumber    205 non-null    object \n",
      " 16  enginesize        205 non-null    int64  \n",
      " 17  fuelsystem        205 non-null    object \n",
      " 18  boreratio         205 non-null    float64\n",
      " 19  stroke            205 non-null    float64\n",
      " 20  compressionratio  205 non-null    float64\n",
      " 21  horsepower        205 non-null    int64  \n",
      " 22  peakrpm           205 non-null    int64  \n",
      " 23  citympg           205 non-null    int64  \n",
      " 24  highwaympg        205 non-null    int64  \n",
      " 25  price             205 non-null    float64\n",
      "dtypes: float64(8), int64(8), object(10)\n",
      "memory usage: 41.8+ KB\n"
     ]
    }
   ],
   "source": [
    "data.info()"
   ]
  },
  {
   "cell_type": "markdown",
   "id": "407da7d7",
   "metadata": {
    "papermill": {
     "duration": 0.006205,
     "end_time": "2022-10-17T08:28:08.169481",
     "exception": false,
     "start_time": "2022-10-17T08:28:08.163276",
     "status": "completed"
    },
    "tags": []
   },
   "source": [
    "## Partition Data into X and y"
   ]
  },
  {
   "cell_type": "code",
   "execution_count": 5,
   "id": "6b5d8fd2",
   "metadata": {
    "execution": {
     "iopub.execute_input": "2022-10-17T08:28:08.183981Z",
     "iopub.status.busy": "2022-10-17T08:28:08.183576Z",
     "iopub.status.idle": "2022-10-17T08:28:08.209315Z",
     "shell.execute_reply": "2022-10-17T08:28:08.208034Z"
    },
    "papermill": {
     "duration": 0.036622,
     "end_time": "2022-10-17T08:28:08.212190",
     "exception": false,
     "start_time": "2022-10-17T08:28:08.175568",
     "status": "completed"
    },
    "tags": []
   },
   "outputs": [],
   "source": [
    "# Partition Data into X and y\n",
    "y = data['price']\n",
    "X = data.drop(['car_ID','price'], axis = 1)\n",
    "\n",
    "# Create Dummy Variables\n",
    "X = pd.get_dummies(X)\n",
    "X.head()\n",
    "\n",
    "# train test split\n",
    "X_train, X_test, y_train, y_test = train_test_split(X, y, test_size=0.33, random_state=42)"
   ]
  },
  {
   "cell_type": "markdown",
   "id": "98a74a7a",
   "metadata": {
    "papermill": {
     "duration": 0.006057,
     "end_time": "2022-10-17T08:28:08.224777",
     "exception": false,
     "start_time": "2022-10-17T08:28:08.218720",
     "status": "completed"
    },
    "tags": []
   },
   "source": [
    "## Decision Tree with Hyperparameter"
   ]
  },
  {
   "cell_type": "markdown",
   "id": "aa559e08",
   "metadata": {
    "papermill": {
     "duration": 0.006121,
     "end_time": "2022-10-17T08:28:08.238583",
     "exception": false,
     "start_time": "2022-10-17T08:28:08.232462",
     "status": "completed"
    },
    "tags": []
   },
   "source": [
    "### 1/ Initiate an Instance"
   ]
  },
  {
   "cell_type": "code",
   "execution_count": 6,
   "id": "fc1cbfb0",
   "metadata": {
    "execution": {
     "iopub.execute_input": "2022-10-17T08:28:08.253703Z",
     "iopub.status.busy": "2022-10-17T08:28:08.252876Z",
     "iopub.status.idle": "2022-10-17T08:28:08.259186Z",
     "shell.execute_reply": "2022-10-17T08:28:08.258040Z"
    },
    "papermill": {
     "duration": 0.016662,
     "end_time": "2022-10-17T08:28:08.261747",
     "exception": false,
     "start_time": "2022-10-17T08:28:08.245085",
     "status": "completed"
    },
    "tags": []
   },
   "outputs": [],
   "source": [
    "dt_model = DecisionTreeRegressor(random_state = 42)"
   ]
  },
  {
   "cell_type": "markdown",
   "id": "3d97c152",
   "metadata": {
    "papermill": {
     "duration": 0.006202,
     "end_time": "2022-10-17T08:28:08.274640",
     "exception": false,
     "start_time": "2022-10-17T08:28:08.268438",
     "status": "completed"
    },
    "tags": []
   },
   "source": [
    "### 2/ Create Parameter Grid"
   ]
  },
  {
   "cell_type": "code",
   "execution_count": 7,
   "id": "d77824a2",
   "metadata": {
    "execution": {
     "iopub.execute_input": "2022-10-17T08:28:08.289392Z",
     "iopub.status.busy": "2022-10-17T08:28:08.288877Z",
     "iopub.status.idle": "2022-10-17T08:28:08.294714Z",
     "shell.execute_reply": "2022-10-17T08:28:08.293610Z"
    },
    "papermill": {
     "duration": 0.016013,
     "end_time": "2022-10-17T08:28:08.297054",
     "exception": false,
     "start_time": "2022-10-17T08:28:08.281041",
     "status": "completed"
    },
    "tags": []
   },
   "outputs": [],
   "source": [
    "dt_param_grid = {\n",
    "    'criterion' : ['squared_error', 'poisson', 'absolute_error'],\n",
    "    'max_depth' : [3,4,5,6,7,8,9,10]\n",
    "}"
   ]
  },
  {
   "cell_type": "markdown",
   "id": "1502d4c5",
   "metadata": {
    "papermill": {
     "duration": 0.005864,
     "end_time": "2022-10-17T08:28:08.309454",
     "exception": false,
     "start_time": "2022-10-17T08:28:08.303590",
     "status": "completed"
    },
    "tags": []
   },
   "source": [
    "### 3/ Initiate a GridSearchCV instance\n",
    "- model\n",
    "- parameter grid\n",
    "- scoring"
   ]
  },
  {
   "cell_type": "code",
   "execution_count": 8,
   "id": "69f0a7ca",
   "metadata": {
    "execution": {
     "iopub.execute_input": "2022-10-17T08:28:08.323712Z",
     "iopub.status.busy": "2022-10-17T08:28:08.323292Z",
     "iopub.status.idle": "2022-10-17T08:28:08.329278Z",
     "shell.execute_reply": "2022-10-17T08:28:08.328065Z"
    },
    "papermill": {
     "duration": 0.016228,
     "end_time": "2022-10-17T08:28:08.331969",
     "exception": false,
     "start_time": "2022-10-17T08:28:08.315741",
     "status": "completed"
    },
    "tags": []
   },
   "outputs": [],
   "source": [
    "gs_dt = GridSearchCV(dt_model, param_grid = dt_param_grid, scoring = 'neg_root_mean_squared_error') #neg_mean_squared_error"
   ]
  },
  {
   "cell_type": "markdown",
   "id": "3162b655",
   "metadata": {
    "papermill": {
     "duration": 0.006334,
     "end_time": "2022-10-17T08:28:08.344964",
     "exception": false,
     "start_time": "2022-10-17T08:28:08.338630",
     "status": "completed"
    },
    "tags": []
   },
   "source": [
    "### 4/ Fit Grid Search to get Best Estimators"
   ]
  },
  {
   "cell_type": "code",
   "execution_count": 9,
   "id": "899d4abe",
   "metadata": {
    "execution": {
     "iopub.execute_input": "2022-10-17T08:28:08.359744Z",
     "iopub.status.busy": "2022-10-17T08:28:08.359354Z",
     "iopub.status.idle": "2022-10-17T08:28:09.760909Z",
     "shell.execute_reply": "2022-10-17T08:28:09.759908Z"
    },
    "papermill": {
     "duration": 1.411743,
     "end_time": "2022-10-17T08:28:09.763382",
     "exception": false,
     "start_time": "2022-10-17T08:28:08.351639",
     "status": "completed"
    },
    "tags": []
   },
   "outputs": [
    {
     "data": {
      "text/plain": [
       "DecisionTreeRegressor(max_depth=6, random_state=42)"
      ]
     },
     "execution_count": 9,
     "metadata": {},
     "output_type": "execute_result"
    }
   ],
   "source": [
    "gs_dt.fit(X_train,y_train)\n",
    "\n",
    "# Store Best Estimator\n",
    "best_dt_estimates = gs_dt.best_estimator_\n",
    "best_dt_estimates"
   ]
  },
  {
   "cell_type": "markdown",
   "id": "e34a192f",
   "metadata": {
    "papermill": {
     "duration": 0.005977,
     "end_time": "2022-10-17T08:28:09.776496",
     "exception": false,
     "start_time": "2022-10-17T08:28:09.770519",
     "status": "completed"
    },
    "tags": []
   },
   "source": [
    "### 5/ Fit Model with Best Estimator"
   ]
  },
  {
   "cell_type": "code",
   "execution_count": 10,
   "id": "2b87e190",
   "metadata": {
    "execution": {
     "iopub.execute_input": "2022-10-17T08:28:09.791557Z",
     "iopub.status.busy": "2022-10-17T08:28:09.791113Z",
     "iopub.status.idle": "2022-10-17T08:28:09.804555Z",
     "shell.execute_reply": "2022-10-17T08:28:09.803404Z"
    },
    "papermill": {
     "duration": 0.02419,
     "end_time": "2022-10-17T08:28:09.806964",
     "exception": false,
     "start_time": "2022-10-17T08:28:09.782774",
     "status": "completed"
    },
    "tags": []
   },
   "outputs": [
    {
     "data": {
      "text/plain": [
       "DecisionTreeRegressor(max_depth=6, random_state=42)"
      ]
     },
     "execution_count": 10,
     "metadata": {},
     "output_type": "execute_result"
    }
   ],
   "source": [
    "best_dt_estimates.fit(X_train, y_train)"
   ]
  },
  {
   "cell_type": "markdown",
   "id": "4c294d8a",
   "metadata": {
    "papermill": {
     "duration": 0.006457,
     "end_time": "2022-10-17T08:28:09.821095",
     "exception": false,
     "start_time": "2022-10-17T08:28:09.814638",
     "status": "completed"
    },
    "tags": []
   },
   "source": [
    "### 6/ Make predictions"
   ]
  },
  {
   "cell_type": "code",
   "execution_count": 11,
   "id": "28b98b8b",
   "metadata": {
    "execution": {
     "iopub.execute_input": "2022-10-17T08:28:09.836052Z",
     "iopub.status.busy": "2022-10-17T08:28:09.835630Z",
     "iopub.status.idle": "2022-10-17T08:28:09.848120Z",
     "shell.execute_reply": "2022-10-17T08:28:09.847156Z"
    },
    "papermill": {
     "duration": 0.023132,
     "end_time": "2022-10-17T08:28:09.850715",
     "exception": false,
     "start_time": "2022-10-17T08:28:09.827583",
     "status": "completed"
    },
    "tags": []
   },
   "outputs": [],
   "source": [
    "y_train_predicted = best_dt_estimates.predict(X_train)\n",
    "y_test_predicted = best_dt_estimates.predict(X_test)"
   ]
  },
  {
   "cell_type": "markdown",
   "id": "28bd138f",
   "metadata": {
    "papermill": {
     "duration": 0.006441,
     "end_time": "2022-10-17T08:28:09.864102",
     "exception": false,
     "start_time": "2022-10-17T08:28:09.857661",
     "status": "completed"
    },
    "tags": []
   },
   "source": [
    "### 7/ Check Performance"
   ]
  },
  {
   "cell_type": "markdown",
   "id": "e14adab1",
   "metadata": {
    "papermill": {
     "duration": 0.006233,
     "end_time": "2022-10-17T08:28:09.876785",
     "exception": false,
     "start_time": "2022-10-17T08:28:09.870552",
     "status": "completed"
    },
    "tags": []
   },
   "source": [
    "#### Check train & test Performance"
   ]
  },
  {
   "cell_type": "code",
   "execution_count": 12,
   "id": "f5210155",
   "metadata": {
    "execution": {
     "iopub.execute_input": "2022-10-17T08:28:09.892288Z",
     "iopub.status.busy": "2022-10-17T08:28:09.891621Z",
     "iopub.status.idle": "2022-10-17T08:28:09.898187Z",
     "shell.execute_reply": "2022-10-17T08:28:09.897267Z"
    },
    "papermill": {
     "duration": 0.017211,
     "end_time": "2022-10-17T08:28:09.900640",
     "exception": false,
     "start_time": "2022-10-17T08:28:09.883429",
     "status": "completed"
    },
    "tags": []
   },
   "outputs": [],
   "source": [
    "performance_dict = {\n",
    "        'Model_Name' : gs_dt.best_estimator_,\n",
    "        'Train_RMSE' : round(mean_squared_error(y_train, y_train_predicted, squared=False),2),\n",
    "        'Test_RMSE'  : round(mean_squared_error(y_test, y_test_predicted, squared=False),2)\n",
    "    }"
   ]
  },
  {
   "cell_type": "code",
   "execution_count": 13,
   "id": "76775c09",
   "metadata": {
    "execution": {
     "iopub.execute_input": "2022-10-17T08:28:09.916171Z",
     "iopub.status.busy": "2022-10-17T08:28:09.915565Z",
     "iopub.status.idle": "2022-10-17T08:28:09.932725Z",
     "shell.execute_reply": "2022-10-17T08:28:09.931887Z"
    },
    "papermill": {
     "duration": 0.028016,
     "end_time": "2022-10-17T08:28:09.935453",
     "exception": false,
     "start_time": "2022-10-17T08:28:09.907437",
     "status": "completed"
    },
    "tags": []
   },
   "outputs": [
    {
     "data": {
      "text/html": [
       "<div>\n",
       "<style scoped>\n",
       "    .dataframe tbody tr th:only-of-type {\n",
       "        vertical-align: middle;\n",
       "    }\n",
       "\n",
       "    .dataframe tbody tr th {\n",
       "        vertical-align: top;\n",
       "    }\n",
       "\n",
       "    .dataframe thead th {\n",
       "        text-align: right;\n",
       "    }\n",
       "</style>\n",
       "<table border=\"1\" class=\"dataframe\">\n",
       "  <thead>\n",
       "    <tr style=\"text-align: right;\">\n",
       "      <th></th>\n",
       "      <th>Model_Name</th>\n",
       "      <th>Train_RMSE</th>\n",
       "      <th>Test_RMSE</th>\n",
       "    </tr>\n",
       "  </thead>\n",
       "  <tbody>\n",
       "    <tr>\n",
       "      <th>0</th>\n",
       "      <td>DecisionTreeRegressor(max_depth=6, random_stat...</td>\n",
       "      <td>988.61</td>\n",
       "      <td>2462.68</td>\n",
       "    </tr>\n",
       "  </tbody>\n",
       "</table>\n",
       "</div>"
      ],
      "text/plain": [
       "                                          Model_Name  Train_RMSE  Test_RMSE\n",
       "0  DecisionTreeRegressor(max_depth=6, random_stat...      988.61    2462.68"
      ]
     },
     "execution_count": 13,
     "metadata": {},
     "output_type": "execute_result"
    }
   ],
   "source": [
    "performance = pd.DataFrame([performance_dict])\n",
    "performance"
   ]
  },
  {
   "cell_type": "markdown",
   "id": "0a8538aa",
   "metadata": {
    "papermill": {
     "duration": 0.0065,
     "end_time": "2022-10-17T08:28:09.948997",
     "exception": false,
     "start_time": "2022-10-17T08:28:09.942497",
     "status": "completed"
    },
    "tags": []
   },
   "source": [
    "# How did the model perform?"
   ]
  }
 ],
 "metadata": {
  "kernelspec": {
   "display_name": "Python 3",
   "language": "python",
   "name": "python3"
  },
  "language_info": {
   "codemirror_mode": {
    "name": "ipython",
    "version": 3
   },
   "file_extension": ".py",
   "mimetype": "text/x-python",
   "name": "python",
   "nbconvert_exporter": "python",
   "pygments_lexer": "ipython3",
   "version": "3.7.12"
  },
  "papermill": {
   "default_parameters": {},
   "duration": 13.593539,
   "end_time": "2022-10-17T08:28:10.778845",
   "environment_variables": {},
   "exception": null,
   "input_path": "__notebook__.ipynb",
   "output_path": "__notebook__.ipynb",
   "parameters": {},
   "start_time": "2022-10-17T08:27:57.185306",
   "version": "2.3.4"
  }
 },
 "nbformat": 4,
 "nbformat_minor": 5
}
